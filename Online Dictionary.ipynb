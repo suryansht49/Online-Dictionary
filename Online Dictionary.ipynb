{
 "cells": [
  {
   "cell_type": "code",
   "execution_count": 2,
   "metadata": {},
   "outputs": [
    {
     "name": "stdout",
     "output_type": "stream",
     "text": [
      "Enter a word: \n",
      "ant\n",
      "Any of the black, red, brown, or yellow insects of the family Formicidae characterized by a large head and by living in organized colonies.\n"
     ]
    }
   ],
   "source": [
    "import json\n",
    "from difflib import get_close_matches\n",
    "\n",
    "data = json.load ( open( 'JSON Data.json', ) )\n",
    "\n",
    "print( \"Enter a word: \" )\n",
    "val = input().lower()\n",
    "\n",
    "flag = 0\n",
    "\n",
    "for x in data:\n",
    "    if x.lower() == val:\n",
    "        flag = 1\n",
    "        for i in data[x]:\n",
    "            print( i )\n",
    "            \n",
    "if flag == 0:\n",
    "    counter = 0\n",
    "    item = 0\n",
    "    \n",
    "    while counter < 3 and counter < len ( get_close_matches ( val , data.keys() ) ):\n",
    "        \n",
    "        if len ( get_close_matches ( val , data.keys() ) )>0:\n",
    "            \n",
    "            lis = get_close_matches ( val , data.keys() )\n",
    "            \n",
    "            print ( \"Did you mean \" + lis[item] + \". Enter Y for yes, N for No\" )\n",
    "            choice = input().lower()\n",
    "            \n",
    "            if choice == \"y\":\n",
    "                \n",
    "                for i in data[ lis[0] ]:\n",
    "                    print( i )\n",
    "                \n",
    "                flag = 1\n",
    "                break\n",
    "            \n",
    "            elif choice == 'n':\n",
    "                counter += 1\n",
    "                item += 1\n",
    "           \n",
    "            else:\n",
    "                print( \"Invalid Choice\" )\n",
    "                counter += 1\n",
    "\n",
    "    if flag == 0:\n",
    "        print( \"Please enter a meaningful word\" )\n",
    "            "
   ]
  },
  {
   "cell_type": "code",
   "execution_count": null,
   "metadata": {},
   "outputs": [],
   "source": []
  }
 ],
 "metadata": {
  "kernelspec": {
   "display_name": "Python 3",
   "language": "python",
   "name": "python3"
  },
  "language_info": {
   "codemirror_mode": {
    "name": "ipython",
    "version": 3
   },
   "file_extension": ".py",
   "mimetype": "text/x-python",
   "name": "python",
   "nbconvert_exporter": "python",
   "pygments_lexer": "ipython3",
   "version": "3.8.5"
  }
 },
 "nbformat": 4,
 "nbformat_minor": 4
}
